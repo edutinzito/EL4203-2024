{
  "nbformat": 4,
  "nbformat_minor": 0,
  "metadata": {
    "colab": {
      "provenance": []
    },
    "kernelspec": {
      "name": "python3",
      "display_name": "Python 3"
    },
    "language_info": {
      "name": "python"
    }
  },
  "cells": [
    {
      "cell_type": "markdown",
      "source": [
        "# Auxiliar 0\n",
        "## Introducción a Python"
      ],
      "metadata": {
        "id": "ftEMjFx4KD1N"
      }
    },
    {
      "cell_type": "markdown",
      "source": [
        "### 1. Introducción\n",
        "El objetivo de esta primera clase auxiliar es recordar conceptos básicos de programación, y entender cómo ejecutar estos conceptos usando correctamente la sintaxis de Python. Entender esta parte introductoria será de utilidad para construir conceptos más complejos sobre los ya vistos, con los que será posible resolver distintos tipos de problemas usando código legible y eficiente."
      ],
      "metadata": {
        "id": "wT3Q1-QEKPA4"
      }
    },
    {
      "cell_type": "markdown",
      "source": [
        "### 2. Tipos de datos\n",
        "\n",
        "En Python existen de forma nativa algunos tipos de datos básicos. Sobre cada uno de estos tipos de datos, existen operaciones predefinidas que se pueden usar sobre ellos, así como también algunas funciones métodos (que veremos más adelante) que pueden ser muy útiles en el futuro."
      ],
      "metadata": {
        "id": "52n2D-k6MWFj"
      }
    },
    {
      "cell_type": "markdown",
      "source": [
        "- **Enteros y punto flotante**\n",
        "\n",
        "Los datos numéricos de Python se pueden dividir en números enteros (*int*) y números de punto flotante (*float*). Los primeros, naturalmente sirven para describir números enteros; por otra parte, los números de tipo *float* sirven para almacenar números reales. Con estos tipos de datos, es posible realizar distintos tipos de operaciones."
      ],
      "metadata": {
        "id": "QN1RuURbUhVw"
      }
    },
    {
      "cell_type": "code",
      "source": [
        "# Operaciones entre enteros\n",
        "print(2 + 5)\n",
        "print(3 - 11)\n",
        "print(7 * 2)\n",
        "print(8 / 3)\n",
        "print(8 // 3) #¿Qué diferencia tiene con lo de arriba?\n",
        "print(8 % 3)\n",
        "print(2**3)\n",
        "\n",
        "# Operaciones entre floats\n",
        "print(2.0 + 4.0) #¿Debiese ser un entero?\n",
        "print(1.1 - 1.1)\n",
        "print(7.26 * 28.2)\n",
        "print(48.484 / 28.13)"
      ],
      "metadata": {
        "colab": {
          "base_uri": "https://localhost:8080/"
        },
        "id": "vJcrVIKxUn3X",
        "outputId": "1db252d0-4559-4dd6-f43e-d64cb2ab9def"
      },
      "execution_count": null,
      "outputs": [
        {
          "output_type": "stream",
          "name": "stdout",
          "text": [
            "7\n",
            "-8\n",
            "14\n",
            "2.6666666666666665\n",
            "2\n",
            "2\n",
            "8\n",
            "6.0\n",
            "0.0\n",
            "204.732\n",
            "1.72356914326342\n"
          ]
        }
      ]
    },
    {
      "cell_type": "markdown",
      "source": [
        "*Pregunta:* ¿Qué pasa cuando se opera un *int* con un *float*?"
      ],
      "metadata": {
        "id": "wMR3h6W-U-mK"
      }
    },
    {
      "cell_type": "code",
      "source": [
        "# ¿Qué pasa aquí?\n",
        "print(1 + 2.0)"
      ],
      "metadata": {
        "colab": {
          "base_uri": "https://localhost:8080/"
        },
        "id": "GTWK1wa3VBeV",
        "outputId": "0b5b7231-a414-4c02-af78-663d323b2525"
      },
      "execution_count": null,
      "outputs": [
        {
          "output_type": "stream",
          "name": "stdout",
          "text": [
            "3.0\n"
          ]
        }
      ]
    },
    {
      "cell_type": "markdown",
      "source": [
        "- Strings\n",
        "\n",
        "Un string es un tipo de datos que permite almacenar caracteres de largo arbitrario, y se definen encerrando dichos caracteres en comillas simples (`'string'`), dobles (`\"string\"`) o 3 veces cualquiera de las anteriores (`'''string'''` o `\"\"\"string\"\"\"`). En Python, cualquier caracter o combinación de caracteres puede ser un string."
      ],
      "metadata": {
        "id": "TE65vxFoXCtL"
      }
    },
    {
      "cell_type": "code",
      "source": [
        "print(\"Hola Mundo!\")\n",
        "print('Esto es un string con Ñ')\n",
        "print(\"\"\"Es es un string escrito\n",
        "en múltiples líneas\"\"\")"
      ],
      "metadata": {
        "colab": {
          "base_uri": "https://localhost:8080/"
        },
        "id": "XE8Jdj7HXGlF",
        "outputId": "e450a6a6-46a2-4dbd-daee-fd4a10657f1b"
      },
      "execution_count": null,
      "outputs": [
        {
          "output_type": "stream",
          "name": "stdout",
          "text": [
            "Hola Mundo!\n",
            "Esto es un string con Ñ\n",
            "Es es un string escrito\n",
            "en múltiples líneas\n"
          ]
        }
      ]
    },
    {
      "cell_type": "markdown",
      "source": [
        "Una operación usual sobre un string es la capacidad de concatenar unos con otros"
      ],
      "metadata": {
        "id": "29Sdmo2NXspG"
      }
    },
    {
      "cell_type": "code",
      "source": [
        "\"Hola\" + \" \" + \"Mundo\""
      ],
      "metadata": {
        "colab": {
          "base_uri": "https://localhost:8080/",
          "height": 35
        },
        "id": "qUumX3vmX01e",
        "outputId": "f32d4b6d-d223-4e13-dc6e-a2acce98755d"
      },
      "execution_count": null,
      "outputs": [
        {
          "output_type": "execute_result",
          "data": {
            "text/plain": [
              "'Hola Mundo'"
            ],
            "application/vnd.google.colaboratory.intrinsic+json": {
              "type": "string"
            }
          },
          "metadata": {},
          "execution_count": 12
        }
      ]
    },
    {
      "cell_type": "markdown",
      "source": [
        "- Booleanos\n",
        "\n",
        "Los datos de tipo *bool* son datos lógicos. Los únicos valores con este tipo son `True` y `False` (notar que ambos valores comienzan con mayúsculas). Lo interesante de este tipo es que permite realizar operaciones lógicas entre sí."
      ],
      "metadata": {
        "id": "Zqln5Bb4XOXc"
      }
    },
    {
      "cell_type": "code",
      "source": [
        "print(True)\n",
        "print(False)\n",
        "print(True or False) #\"O\" lógico\n",
        "print(True and False) #\"Y\" lógico\n",
        "print(not False) #Negación"
      ],
      "metadata": {
        "colab": {
          "base_uri": "https://localhost:8080/"
        },
        "id": "XsYuxeEWXh2u",
        "outputId": "600f85e2-7c5d-48bb-f8ad-218c69541ee6"
      },
      "execution_count": null,
      "outputs": [
        {
          "output_type": "stream",
          "name": "stdout",
          "text": [
            "True\n",
            "False\n",
            "True\n",
            "False\n",
            "True\n"
          ]
        }
      ]
    },
    {
      "cell_type": "markdown",
      "source": [
        "- Listas\n",
        "\n",
        "Una lista (al igual que los próximos datos que veremos) es un tipo de dato que sirve para guardar valores. Puede ser útil para guardar una lista de nombres de estudiantes, una lista de números, o incluso una lista de varios tipos de datos."
      ],
      "metadata": {
        "id": "-zMj57B0YBtx"
      }
    },
    {
      "cell_type": "code",
      "source": [
        "print([\"José\", \"Sofía\", \"Ignacio\"])\n",
        "print([8, -1, 2.5, 45.7])\n",
        "print([\"Dato importante\", 1, False, 3.3])"
      ],
      "metadata": {
        "colab": {
          "base_uri": "https://localhost:8080/"
        },
        "id": "_Be1n8YAYEqd",
        "outputId": "fdb1a102-a00a-4e91-9898-df7c5d2f56fd"
      },
      "execution_count": null,
      "outputs": [
        {
          "output_type": "stream",
          "name": "stdout",
          "text": [
            "['José', 'Sofía', 'Ignacio']\n",
            "[8, -1, 2.5, 45.7]\n",
            "['Dato importante', 1, False, 3.3]\n"
          ]
        }
      ]
    },
    {
      "cell_type": "markdown",
      "source": [
        "Algo muy importante sobre las listas es que son datos mutables. Podemos agregar o eliminar elementos sin problemas. Incluso podemos extender una lista usando otra lista."
      ],
      "metadata": {
        "id": "5OodonmxYQPY"
      }
    },
    {
      "cell_type": "code",
      "source": [
        "[1, 2, 3].append(4)\n",
        "[1, 2, 3].append(1)"
      ],
      "metadata": {
        "id": "TlHvKF2FYnZ9"
      },
      "execution_count": null,
      "outputs": []
    },
    {
      "cell_type": "markdown",
      "source": [
        "- Tuplas\n",
        "\n",
        "Una tupla es un tipo de dato muy similar a una lista, con la gran diferencia de que no se puede mutar. Es decir, una vez que se crea una tupla, ya no se pueden modificar sus valores."
      ],
      "metadata": {
        "id": "MdENyutIYFLd"
      }
    },
    {
      "cell_type": "code",
      "source": [
        "print((\"José\", \"Sofía\", \"Ignacio\"))\n",
        "print((8, -1, 2.5, 45.7))\n",
        "print((\"Dato importante\", 1, False, 3.3))"
      ],
      "metadata": {
        "colab": {
          "base_uri": "https://localhost:8080/"
        },
        "id": "SrDF-pxqZao9",
        "outputId": "c72742a0-f3dd-47c3-b5d5-de6db77aa8c2"
      },
      "execution_count": null,
      "outputs": [
        {
          "output_type": "stream",
          "name": "stdout",
          "text": [
            "('José', 'Sofía', 'Ignacio')\n",
            "(8, -1, 2.5, 45.7)\n",
            "('Dato importante', 1, False, 3.3)\n"
          ]
        }
      ]
    },
    {
      "cell_type": "markdown",
      "source": [
        "- Conjuntos\n",
        "    \n",
        "Un conjunto es un tipo de dato que cumple principalmente con 2 condiciones: no posee valores repetidos, y no tiene un orden predefinido. Al igual que con las listas, se pueden agregar y eliminar valores."
      ],
      "metadata": {
        "id": "owJa44aaZXdD"
      }
    },
    {
      "cell_type": "code",
      "source": [
        "print({\"José\", \"Sofía\", \"Ignacio\", \"José\"})"
      ],
      "metadata": {
        "colab": {
          "base_uri": "https://localhost:8080/"
        },
        "id": "ow1xyIwzaHLR",
        "outputId": "d045445b-48de-4761-e7ae-fd0f699545da"
      },
      "execution_count": null,
      "outputs": [
        {
          "output_type": "stream",
          "name": "stdout",
          "text": [
            "{'José', 'Ignacio', 'Sofía'}\n"
          ]
        }
      ]
    },
    {
      "cell_type": "markdown",
      "source": [
        "- Diccionario\n",
        "\n",
        "Un diccionario es un tipo de dato de la forma `{llave: valor}`. Vale decir, existe un `valor` que es indexado por medio de una `llave` única, que luego puede ser utilizada para acceder a dicho `valor`."
      ],
      "metadata": {
        "id": "TDYB5vk8aDN9"
      }
    },
    {
      "cell_type": "code",
      "source": [
        "{\"a\": 1, \"b\": 2, \"c\": 3}"
      ],
      "metadata": {
        "colab": {
          "base_uri": "https://localhost:8080/"
        },
        "id": "WbxFzzuTaYY9",
        "outputId": "6bc1c072-d443-4c6f-8c4d-95ee16c08b6b"
      },
      "execution_count": null,
      "outputs": [
        {
          "output_type": "execute_result",
          "data": {
            "text/plain": [
              "{'a': 1, 'b': 2, 'c': 3}"
            ]
          },
          "metadata": {},
          "execution_count": 25
        }
      ]
    },
    {
      "cell_type": "markdown",
      "source": [
        "### 3. Variables\n",
        "\n",
        "Para definir una variable en Python se debe usar la notación\n",
        "\n",
        "```py\n",
        "nombre_variable = valor_variable\n",
        "```\n",
        "\n",
        "Y eso es todo"
      ],
      "metadata": {
        "id": "YuY3XCLjLt4M"
      }
    },
    {
      "cell_type": "markdown",
      "source": [
        "Guardar variables resulta útil cuando realizamos algún tipo de operación y queremos utilizar el resultado posteriormente."
      ],
      "metadata": {
        "id": "m6I5B8KxV99O"
      }
    },
    {
      "cell_type": "code",
      "source": [
        "n = 8\n",
        "x = 5.7\n",
        "\n",
        "print(n)\n",
        "print(x)"
      ],
      "metadata": {
        "colab": {
          "base_uri": "https://localhost:8080/"
        },
        "id": "NGzlN8DvVv8o",
        "outputId": "21dd18d8-0f3f-4659-b91f-6152533b857f"
      },
      "execution_count": null,
      "outputs": [
        {
          "output_type": "stream",
          "name": "stdout",
          "text": [
            "8\n",
            "5.7\n"
          ]
        }
      ]
    },
    {
      "cell_type": "markdown",
      "source": [
        "Cabe señalar que, a diferencia de otros lenguajes de programación, Python es de tipado dinámico. Esto quiere decir que es posible guardar un tipo de dato en `nombre_variable`, y luego guardar un `valor_variable` completamente distinto al tipo original."
      ],
      "metadata": {
        "id": "g0rZsoF9VmTg"
      }
    },
    {
      "cell_type": "code",
      "source": [
        "resultado = 8 + 5.7\n",
        "print(resultado)\n",
        "\n",
        "resultado = n + x\n",
        "print(resultado)"
      ],
      "metadata": {
        "colab": {
          "base_uri": "https://localhost:8080/"
        },
        "id": "aIy8oLkSVnDM",
        "outputId": "00faa674-fa63-4ad4-a8ed-157441b386df"
      },
      "execution_count": null,
      "outputs": [
        {
          "output_type": "stream",
          "name": "stdout",
          "text": [
            "13.7\n",
            "13.7\n"
          ]
        }
      ]
    },
    {
      "cell_type": "markdown",
      "source": [
        "Aquí se pueden notar algunas cosas interesantes: primero, no sólo se pueden guardar variables de forma directa, sino que también se pueden guardar los resultados de una operación. En segundo lugar, una vez que se define una variable, se puede utilizar su `nombre_variable` en el futuro, y el resultado será exactamente el mismo."
      ],
      "metadata": {
        "id": "iZAWKmxiWEbH"
      }
    },
    {
      "cell_type": "code",
      "execution_count": null,
      "metadata": {
        "colab": {
          "base_uri": "https://localhost:8080/"
        },
        "id": "OYUmXgEhJ-X7",
        "outputId": "30ed0972-7752-463c-c63c-c2d44e405b82"
      },
      "outputs": [
        {
          "output_type": "stream",
          "name": "stdout",
          "text": [
            "Dato con tipo string\n"
          ]
        }
      ],
      "source": [
        "numero = 42\n",
        "numero = \"Dato con tipo string\"\n",
        "\n",
        "print(numero)"
      ]
    },
    {
      "cell_type": "markdown",
      "source": [
        "*Consejo*: intente siempre guardar sus variables con algún nombre fácil de identificar. Suele ser una mala práctica hacer lo siguiente:"
      ],
      "metadata": {
        "id": "rzp2Rn7SbFzj"
      }
    },
    {
      "cell_type": "code",
      "source": [
        "a = 3\n",
        "b = 4\n",
        "c = (a**2 + b**2)**0.5\n",
        "\n",
        "print(c)"
      ],
      "metadata": {
        "colab": {
          "base_uri": "https://localhost:8080/"
        },
        "id": "YvmaurZqbOah",
        "outputId": "383b9338-fa7b-405c-eb8b-e88c68c3b870"
      },
      "execution_count": null,
      "outputs": [
        {
          "output_type": "stream",
          "name": "stdout",
          "text": [
            "5.0\n"
          ]
        }
      ]
    },
    {
      "cell_type": "markdown",
      "source": [
        "¿Qué significado tiene cada variable? Es difícil de saber a simple vista, por lo que esto obliga a tener que revisar el código. En ocasiones, el código puede ser lo suficientemente complejo como para entender qué se guarda en cada variable. Resulta mucho mejor hacer algo como lo siguiente:"
      ],
      "metadata": {
        "id": "zvVY3JxAbWca"
      }
    },
    {
      "cell_type": "code",
      "source": [
        "cateto_1 = 3\n",
        "cateto_2 = 4\n",
        "hipotenusa = (cateto_1**2 + cateto_2**2)**0.5\n",
        "\n",
        "print(hipotenusa)"
      ],
      "metadata": {
        "colab": {
          "base_uri": "https://localhost:8080/"
        },
        "id": "bKI0psiXbtqt",
        "outputId": "b03a240a-b1ae-4104-f162-c8e874622c3f"
      },
      "execution_count": null,
      "outputs": [
        {
          "output_type": "stream",
          "name": "stdout",
          "text": [
            "5.0\n"
          ]
        }
      ]
    },
    {
      "cell_type": "markdown",
      "source": [
        "¿Recuerdan que les dije que las listas se pueden modificar? Ahora que podemos guardar variables, veamos como se actualzia una lista"
      ],
      "metadata": {
        "id": "AvsxnaITcQeS"
      }
    },
    {
      "cell_type": "code",
      "source": [
        "lista = [1, 2, 3]\n",
        "print(lista)\n",
        "\n",
        "lista.append(4)\n",
        "print(lista)\n",
        "\n",
        "lista.remove(1)\n",
        "print(lista)"
      ],
      "metadata": {
        "colab": {
          "base_uri": "https://localhost:8080/"
        },
        "id": "Z7NMx77hcVxn",
        "outputId": "07ad688b-2dc2-407a-b249-5c1835fe627d"
      },
      "execution_count": null,
      "outputs": [
        {
          "output_type": "stream",
          "name": "stdout",
          "text": [
            "[1, 2, 3]\n",
            "[1, 2, 3, 4]\n",
            "[2, 3, 4]\n"
          ]
        }
      ]
    },
    {
      "cell_type": "markdown",
      "source": [
        "Algo interesante sobre tipos de datos como las listas, es que se puede acceder individualmente a cada uno de sus elementos. Para ello, se utiliza la notación `coleccion[indice]`, en donce índice suele ser la posición del elemento que se quiere seleccionar. En Python los índices comienzan desde el 0."
      ],
      "metadata": {
        "id": "-e-s1p4XcjNI"
      }
    },
    {
      "cell_type": "code",
      "source": [
        "lista = [1, 2, 3]\n",
        "\n",
        "print(lista[0]) #Se accede al elemento en la posición 0\n",
        "print(lista[1]) #Se accede al elemento en la posición 1\n",
        "print(lista[2]) #Se accede al elemento en la posición 2"
      ],
      "metadata": {
        "colab": {
          "base_uri": "https://localhost:8080/"
        },
        "id": "tPIhP2atcieI",
        "outputId": "1fbeb09c-5386-4fff-b180-42cb1414b4a4"
      },
      "execution_count": null,
      "outputs": [
        {
          "output_type": "stream",
          "name": "stdout",
          "text": [
            "1\n",
            "2\n",
            "3\n"
          ]
        }
      ]
    },
    {
      "cell_type": "markdown",
      "source": [
        "Las tuplas también cumplen con esta propiedad: se puede acceder a sus elementos de acuerdo a la posición en las que se encuentran dentro de la tupla."
      ],
      "metadata": {
        "id": "B14MURWadzvj"
      }
    },
    {
      "cell_type": "code",
      "source": [
        "tupla = (\"a\", \"b\", \"c\")\n",
        "\n",
        "print(tupla[0]) #Se accede al elemento en la posición 0\n",
        "print(tupla[1]) #Se accede al elemento en la posición 1\n",
        "print(tupla[2]) #Se accede al elemento en la posición 2"
      ],
      "metadata": {
        "colab": {
          "base_uri": "https://localhost:8080/"
        },
        "id": "-AwMnxSBd___",
        "outputId": "d9bea0bc-e01e-4718-b803-0141efa2d87a"
      },
      "execution_count": null,
      "outputs": [
        {
          "output_type": "stream",
          "name": "stdout",
          "text": [
            "a\n",
            "b\n",
            "c\n"
          ]
        }
      ]
    },
    {
      "cell_type": "markdown",
      "source": [
        "¡Los strings también cumplen esta propiedad! Al ser una colección de caracteres, es posible seleccionar cada string de acuerdo a su posición."
      ],
      "metadata": {
        "id": "NhxFSZ1_eEmz"
      }
    },
    {
      "cell_type": "code",
      "source": [
        "string = \"abc\"\n",
        "\n",
        "print(string[0]) #Se accede al elemento en la posición 0\n",
        "print(string[1]) #Se accede al elemento en la posición 1\n",
        "print(string[2]) #Se accede al elemento en la posición 2"
      ],
      "metadata": {
        "colab": {
          "base_uri": "https://localhost:8080/"
        },
        "id": "DS7jEgEgeRFA",
        "outputId": "5b2a82b3-2817-4910-8341-b5a5354505e0"
      },
      "execution_count": null,
      "outputs": [
        {
          "output_type": "stream",
          "name": "stdout",
          "text": [
            "a\n",
            "b\n",
            "c\n"
          ]
        }
      ]
    },
    {
      "cell_type": "markdown",
      "source": [
        "Los diccionarios son un poco diferentes. Como se mencionó previamente, cada valor de indexa de acuerdo a una llave, por lo que para acceder a cada uno de esos valores es necesario utlizar la llave respectiva."
      ],
      "metadata": {
        "id": "TMdPOMXweae2"
      }
    },
    {
      "cell_type": "code",
      "source": [
        "diccionario = {\"a\": 1, \"b\": 2, \"c\": 3}\n",
        "\n",
        "print(diccionario[\"a\"]) #Se accede al elemento con llave \"a\"\n",
        "print(diccionario[\"b\"]) #Se accede al elemento con llave \"b\"\n",
        "print(diccionario[\"c\"]) #Se accede al elemento con llave \"c\""
      ],
      "metadata": {
        "colab": {
          "base_uri": "https://localhost:8080/"
        },
        "id": "k1hN6aWWejWs",
        "outputId": "1bc205df-c401-4fcb-87ea-14cc52d7ab6c"
      },
      "execution_count": null,
      "outputs": [
        {
          "output_type": "stream",
          "name": "stdout",
          "text": [
            "1\n",
            "2\n",
            "3\n"
          ]
        }
      ]
    },
    {
      "cell_type": "markdown",
      "source": [
        "### 4. Funciones\n",
        "\n",
        "Las funciones se pueden pensar como un elemento que recibe algún input, el que es procesado por una porción de código, y entrega un output. La sintaxis para escribir una función en Python es\n",
        "\n",
        "```\n",
        "def nombre_funcion(nombre_argumento_1, nombre_argumento_2, ...):\n",
        "    ...\n",
        "    ...\n",
        "    resultado = ...\n",
        "    return resultado\n",
        "```\n",
        "\n",
        "Algunos aspectos importantes a considerar: introducimos por primera vez la noción de indentación. Es muy importante que respeten los espacios que aparecen en cada línea entre la definición de una función y el la línea en que se retorna un valor. Si eso no e respeta, su código tendrá problemas"
      ],
      "metadata": {
        "id": "6ji-dVJ9exdJ"
      }
    },
    {
      "cell_type": "code",
      "source": [
        "# Ejemplo de una función bien escrita\n",
        "def calcular_hipotenusa(cateto_1, cateto_2):\n",
        "    hipotenusa = (cateto_1**2 + cateto_2**2)**0.5\n",
        "    return hipotenusa"
      ],
      "metadata": {
        "id": "TkPwrBuAg3Od"
      },
      "execution_count": null,
      "outputs": []
    },
    {
      "cell_type": "code",
      "source": [
        "# Ejemplo de una función mal escrita\n",
        "def norma_vector3D(x_1, x_2, x_3):\n",
        "    norma = (x_1**2 + x_2**2 + x_3**2)**0.5\n",
        "return norma #NO se respeta la indentación"
      ],
      "metadata": {
        "colab": {
          "base_uri": "https://localhost:8080/",
          "height": 106
        },
        "id": "cr15o6t8g_Ed",
        "outputId": "df3352c3-6ef6-4bb4-fc0f-331a253bb499"
      },
      "execution_count": null,
      "outputs": [
        {
          "output_type": "error",
          "ename": "SyntaxError",
          "evalue": "duplicate argument 'x_2' in function definition (<ipython-input-45-8ec4b56e5534>, line 2)",
          "traceback": [
            "\u001b[0;36m  File \u001b[0;32m\"<ipython-input-45-8ec4b56e5534>\"\u001b[0;36m, line \u001b[0;32m2\u001b[0m\n\u001b[0;31m    def norma_vector3D(x_1, x_2, x_2):\u001b[0m\n\u001b[0m                                 ^\u001b[0m\n\u001b[0;31mSyntaxError\u001b[0m\u001b[0;31m:\u001b[0m duplicate argument 'x_2' in function definition\n"
          ]
        }
      ]
    },
    {
      "cell_type": "markdown",
      "source": [
        "En este último caso el código arroja un error, pues no se ha respetado la sintaxis del lenguaje. Siempre deben tener cuidado con la indentación en Python para asegurar que su código funcione correctamente.\n",
        "\n",
        "Para utilizar una función ya definida, se debe llamar de la siguiente forma"
      ],
      "metadata": {
        "id": "OG6knGOlhEa8"
      }
    },
    {
      "cell_type": "code",
      "source": [
        "calcular_hipotenusa(3, 4)"
      ],
      "metadata": {
        "colab": {
          "base_uri": "https://localhost:8080/"
        },
        "id": "RSTKN0RyhStc",
        "outputId": "6ca1c14b-0f4c-4632-9de9-bb48c4cec330"
      },
      "execution_count": null,
      "outputs": [
        {
          "output_type": "execute_result",
          "data": {
            "text/plain": [
              "5.0"
            ]
          },
          "metadata": {},
          "execution_count": 47
        }
      ]
    },
    {
      "cell_type": "markdown",
      "source": [
        "A lo largo de toda la auxiliar hemos estado usando una función predefinida de Python: la función `print`. Esta función recibe una cantidad arbitraria de argumentos, y luego imprime en pantalla cada uno de estos elementos. Es así como hemos podido mostrar cada una de las expresiones y variables anteriores.\n",
        "\n",
        "Esta función también sirve de ejemplo para algo particular: la palabra clave `return` en una función en opcional. Podemos crear una función que ejecute un código, pero que al final no entregue nada."
      ],
      "metadata": {
        "id": "8MnrZjnKopXW"
      }
    },
    {
      "cell_type": "code",
      "source": [
        "def funcion_sin_return(string):\n",
        "    print(string, \"Mundo!\")\n",
        "\n",
        "funcion_sin_return(\"Hola\")"
      ],
      "metadata": {
        "colab": {
          "base_uri": "https://localhost:8080/"
        },
        "id": "EhFmC8_YpMHd",
        "outputId": "27cb6f66-8e27-4fb5-8151-89f1c494c4be"
      },
      "execution_count": null,
      "outputs": [
        {
          "output_type": "stream",
          "name": "stdout",
          "text": [
            "Hola Mundo!\n"
          ]
        }
      ]
    },
    {
      "cell_type": "markdown",
      "source": [
        "### 5. Expresiones condicionales\n",
        "\n",
        "Hay ocasiones en las que se quieren realizar algo si pasa una condición, u otra cosa si se cumple alguna otra condición. Por ejemplo, por ley no se le debe vender alcohol a personas menores de 18 años, ¿Cómo podemos lograr algo así?\n",
        "\n",
        "para resolver este tipo de problemas existen las expresiones condiciones, que se caracterizan por comenzar con la cláusula `if`, a la que opcionalemente se le puede agregar una cantidad arbitraria de cláusulas `elif` y/o una última cláusula `else`, con la que siempre se evalua su porción de código respectivo cuando ninguna de las condiciones anteriores se satisface.\n",
        "\n",
        "```\n",
        "if expresion:\n",
        "    codigo 1\n",
        "elif expresion 2:\n",
        "    codigo 2\n",
        "...\n",
        "elif expresion n:\n",
        "    codigo n\n",
        "else:\n",
        "    codigo n+1\n",
        "```"
      ],
      "metadata": {
        "id": "4F9XlpSniPuI"
      }
    },
    {
      "cell_type": "markdown",
      "source": [
        "¿Cómo escribir una expresión para ser evaluada? para responder a esta pregunta, volvamos un momento sobre los booleanos: `True` y `False`. Lo que ocurre durante una expresión condicional, es que se evalua la *veracidad* de la expresión, y en caso de ser esta expresión equivalente al valor booleano `True`, entonces se ejecuta el código respectivo\n",
        "\n",
        "```\n",
        "if False:\n",
        "    codigo 1 #No se ejecuta\n",
        "elif False:\n",
        "    codigo 2 #No se ejecuta\n",
        "elif True:\n",
        "    codigo 3 #Este código sí se ejecuta\n",
        "else:\n",
        "    codigo 4 #No se ejecuta\n",
        "```\n",
        "\n"
      ],
      "metadata": {
        "id": "ScRPGEshj8DL"
      }
    },
    {
      "cell_type": "markdown",
      "source": [
        "Lo que necesitamos entonces es convertir una expresión en un valor booleano. La forma más fácil de lograrlo es por medio de los operadores de comparación como `>`, `<`, `>=`, `==`, `!=`, etc.\n",
        "\n",
        "En una expresión condicional sólo es obligatorio usar un `if`. Veamos un ejemplo para ilustrar lo anterior."
      ],
      "metadata": {
        "id": "h-5G8vaKkGh1"
      }
    },
    {
      "cell_type": "code",
      "source": [
        "def puede_consumir_alcohol(edad):\n",
        "    if edad < 18: #Si la edad de la persona es menor a 18, entonces esta expresión es True\n",
        "        print(\"No puede consumir alcohol\")\n",
        "        return False\n",
        "\n",
        "puede_consumir_alcohol(17)\n",
        "puede_consumir_alcohol(18)"
      ],
      "metadata": {
        "colab": {
          "base_uri": "https://localhost:8080/"
        },
        "id": "YfOxRM1WjDl3",
        "outputId": "bc63b554-e21e-40e3-fd9b-abf9a6b47552"
      },
      "execution_count": null,
      "outputs": [
        {
          "output_type": "stream",
          "name": "stdout",
          "text": [
            "No puede consumir alcohol\n"
          ]
        }
      ]
    },
    {
      "cell_type": "markdown",
      "source": [
        "Como vemos en el caso anterior, una persona menor a 18 años no debiese poder consumir alcohol. Sin embargo, el código no trata el caso en el que una persona tiene 18 años o más. Para abordar el segundo caso se puede agregar una cláusula `else`"
      ],
      "metadata": {
        "id": "_JmkL6Lnjbq-"
      }
    },
    {
      "cell_type": "code",
      "source": [
        "def puede_consumir_alcohol(edad):\n",
        "    if edad < 18:\n",
        "        print(\"No puede consumir alcohol\")\n",
        "        return False\n",
        "    else:\n",
        "        print(\"Puede consumir alcohol\")\n",
        "        return True\n",
        "\n",
        "puede_consumir_alcohol(17)\n",
        "puede_consumir_alcohol(18)"
      ],
      "metadata": {
        "colab": {
          "base_uri": "https://localhost:8080/"
        },
        "id": "6PKlfy7GjUCX",
        "outputId": "8b43bf85-66a4-46c1-a75c-60970cf27bf8"
      },
      "execution_count": null,
      "outputs": [
        {
          "output_type": "stream",
          "name": "stdout",
          "text": [
            "No puede consumir alcohol\n",
            "Puede consumir alcohol\n"
          ]
        },
        {
          "output_type": "execute_result",
          "data": {
            "text/plain": [
              "True"
            ]
          },
          "metadata": {},
          "execution_count": 54
        }
      ]
    },
    {
      "cell_type": "markdown",
      "source": [
        "### 6. Bucles\n",
        "\n",
        "Los bucles son porciones de código se que se repetirán una y otra vez, hasta que se cumpla una condición. En Python podemos encontrar 2 tipos de bucles: `for` y `while`.\n",
        "\n",
        "Un *for loop* ejecuta una porción de código por cada elemento de alguna colección, como las listas o tuplas que hemos visto anteriormente. La sintaxis de una expresión `for` es\n",
        "\n",
        "```\n",
        "for elemento in coleccion:\n",
        "    codigo\n",
        "```\n",
        "\n",
        "Un ejemplo para visualizar este tipo de código:\n"
      ],
      "metadata": {
        "id": "uXYT7muZj4HL"
      }
    },
    {
      "cell_type": "code",
      "source": [
        "lista = [1, 2, 3]\n",
        "\n",
        "for elemento in lista:\n",
        "    print(elemento)"
      ],
      "metadata": {
        "colab": {
          "base_uri": "https://localhost:8080/"
        },
        "id": "gAOHOFXsnHy6",
        "outputId": "260a0998-d4a4-465a-bd7b-5b239c1c05a6"
      },
      "execution_count": null,
      "outputs": [
        {
          "output_type": "stream",
          "name": "stdout",
          "text": [
            "1\n",
            "2\n",
            "3\n"
          ]
        }
      ]
    },
    {
      "cell_type": "markdown",
      "source": [
        "Un *for loop* se define por la palabra `for`, seguido de un nombre de variable arbitrario (en este caso, `elemento`), le sigue la palabra clave `in` y finaliza con la colección de elementos sobre la que queremos iterar.\n",
        "\n",
        "En el ejemplo anterior contamos con una lista, y utilizamos un bucle *for* para mostrar en pantalla cada uno de sus elementos.\n",
        "\n",
        "También es posible lograr el mismo resultado con un bucle `while`. Un *while loop* ejecuta una porción de código, hasta que una expresión deja de ser verdadera.\n",
        "\n",
        "```\n",
        "while expresion:\n",
        "    codigo\n",
        "```\n",
        "\n",
        "Al reescribir el ejemplo anterior para usar un bucle *while* obtenemos lo siguiente"
      ],
      "metadata": {
        "id": "RbNuWsGknRbB"
      }
    },
    {
      "cell_type": "code",
      "source": [
        "idx = 0\n",
        "while idx < len(lista):\n",
        "    print(lista[i])\n",
        "    idx += 1"
      ],
      "metadata": {
        "colab": {
          "base_uri": "https://localhost:8080/"
        },
        "id": "0PxEM3fFofV9",
        "outputId": "cd23a70a-77a1-4579-b586-3c6854dda93f"
      },
      "execution_count": null,
      "outputs": [
        {
          "output_type": "stream",
          "name": "stdout",
          "text": [
            "1\n",
            "2\n",
            "3\n"
          ]
        }
      ]
    },
    {
      "cell_type": "markdown",
      "source": [
        "En este ejemplo introducimos otra de las funciones predefinidas de Python: la función `len`. Con ella, pordemos obtener el largo de alguna colección de elementos, como una lista en este caso. Nuestra lista contiene 3 elementos, por lo que `len(lista)` entrega el valor 3.\n",
        "\n",
        "De esta forma partimos con la variable `idx` (de índice) y la inicializamos en 0. Luego, en el ciclo `while` se chequea si dicho índice es inferior al largo de la lista. Como `0 < 3` la expresión es verdadera, por lo que se ejecuta el código an interior del ciclo `while`. Al final de este primer ciclo, se modifica la variable `idx` para que adquiera el valor 1. Luego se chequea si `1 < 3`, l oque es verdadero, y así sucesivamente.\n",
        "\n",
        "Eventualmente se llegará a la expresión `3 < 3`, lo que es falso. En este caso se terminará la ejecución del ciclo `while` y se continuará con el resto del código."
      ],
      "metadata": {
        "id": "hGEDlUVCokuy"
      }
    },
    {
      "cell_type": "markdown",
      "source": [
        "### 7. Clases\n",
        "\n",
        "Hasta el momento solo hemos trabajado con objetos y tipos de datos predefinidos de Python. Sin embargo, estos no siempre son suficientes para llevar a cabo algunas tareas que nos pueden ser de utilidad. Por lo mismo, el lenguaje provee de una forma de crear nuevos tipos de datos, creando nuevas clases.\n",
        "\n",
        "```\n",
        "class NombreClase:\n",
        "    def __init__(self, propiedad1, propiedad2):\n",
        "        self.propiedad1 = propiedad1\n",
        "        seld.propiedad2 = propiedad2\n",
        "    \n",
        "    def metodo1(self):\n",
        "        codigo\n",
        "\n",
        "    def metodo2(self, argumento):\n",
        "        codigo\n",
        "```"
      ],
      "metadata": {
        "id": "IDot8P5kqggS"
      }
    },
    {
      "cell_type": "markdown",
      "source": [
        "Las clases son objetos arbitrarios que nos permiten implementar funcionalidades máa complejas. Imaginemos pro un momento que queremos recrear la información de una persona."
      ],
      "metadata": {
        "id": "6q_4DpOlrRS_"
      }
    },
    {
      "cell_type": "code",
      "source": [
        "class Persona:\n",
        "    def __init__(self, nombre, edad):\n",
        "        self.nombre = nombre\n",
        "        self.edad = edad\n",
        "\n",
        "    def saludar(self):\n",
        "        print(\"Hola, mi nombre es\", self.nombre)\n",
        "\n",
        "    def es_mayor_de_edad(self):\n",
        "        return self.edad >= 18"
      ],
      "metadata": {
        "id": "qGDV4hbprZh0"
      },
      "execution_count": null,
      "outputs": []
    },
    {
      "cell_type": "code",
      "source": [
        "nestor = Persona(\"Nestor\", 20)\n",
        "nestor.saludar()\n",
        "nestor.es_mayor_de_edad()"
      ],
      "metadata": {
        "colab": {
          "base_uri": "https://localhost:8080/"
        },
        "id": "lRkRdqNYri1t",
        "outputId": "7e43c49d-1f16-45fc-fcb9-a1f8ee0243ca"
      },
      "execution_count": null,
      "outputs": [
        {
          "output_type": "stream",
          "name": "stdout",
          "text": [
            "Hola, mi nombre es Nestor\n"
          ]
        },
        {
          "output_type": "execute_result",
          "data": {
            "text/plain": [
              "True"
            ]
          },
          "metadata": {},
          "execution_count": 61
        }
      ]
    }
  ]
}